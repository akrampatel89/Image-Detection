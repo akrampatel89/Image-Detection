{
 "cells": [
  {
   "cell_type": "code",
   "execution_count": 4,
   "metadata": {},
   "outputs": [
    {
     "name": "stdout",
     "output_type": "stream",
     "text": [
      "Collecting opencv-python\n",
      "  Downloading https://files.pythonhosted.org/packages/79/79/191a56ec4c91b3f4db0ab2440437059daab2f49e4d87ee50e4dd00c1062d/opencv_python-4.3.0.36-cp37-cp37m-win_amd64.whl (33.4MB)\n",
      "Requirement already satisfied: numpy>=1.14.5 in c:\\users\\ap hatela\\miniconda\\lib\\site-packages (from opencv-python) (1.18.5)\n",
      "Installing collected packages: opencv-python\n",
      "Successfully installed opencv-python-4.3.0.36\n"
     ]
    }
   ],
   "source": [
    "#! pip install opencv-python"
   ]
  },
  {
   "cell_type": "code",
   "execution_count": 2,
   "metadata": {},
   "outputs": [],
   "source": [
    "import dlib\n",
    "import cv2"
   ]
  },
  {
   "cell_type": "code",
   "execution_count": 3,
   "metadata": {},
   "outputs": [],
   "source": [
    "#image reading\n",
    "img = cv2.imread('me.jpg')\n",
    "\n",
    "#show img\n",
    "cv2.imshow(winname=\"It's ME\", mat=img)\n",
    "\n",
    "#waiting\n",
    "cv2.waitKey(delay=0)\n",
    "\n",
    "#close all windows\n",
    "cv2.destroyAllWindows()"
   ]
  },
  {
   "cell_type": "code",
   "execution_count": 7,
   "metadata": {},
   "outputs": [],
   "source": [
    "import dlib\n",
    "\n",
    "#detector\n",
    "det = dlib.get_frontal_face_detector()\n",
    "\n",
    "#Grey scale img\n",
    "gray = cv2.cvtColor(src=img, code=cv2.COLOR_BGR2GRAY)\n",
    "\n",
    "faces = det(gray)\n",
    "\n",
    "for face in faces:\n",
    "    x1 = face.left()\n",
    "    y1 = face.top()\n",
    "    x2 = face.right()\n",
    "    y2 = face.bottom()\n",
    "    \n",
    "    #drawing rectangle\n",
    "    cv2.rectangle(img=img, pt1=(x1, y1), pt2=(x2, y2), \n",
    "                  color=(0,333,0), thickness=3)\n",
    "    \n",
    "#img show\n",
    "cv2.imshow(winname=\"It's ME\", mat=img)\n",
    "\n",
    "#delay\n",
    "cv2.waitKey(delay=0)\n",
    "\n",
    "#destroy all windows\n",
    "cv2.destroyAllWindows()"
   ]
  },
  {
   "cell_type": "code",
   "execution_count": null,
   "metadata": {},
   "outputs": [],
   "source": []
  },
  {
   "cell_type": "code",
   "execution_count": null,
   "metadata": {},
   "outputs": [],
   "source": []
  }
 ],
 "metadata": {
  "kernelspec": {
   "display_name": "Python 3",
   "language": "python",
   "name": "python3"
  },
  "language_info": {
   "codemirror_mode": {
    "name": "ipython",
    "version": 3
   },
   "file_extension": ".py",
   "mimetype": "text/x-python",
   "name": "python",
   "nbconvert_exporter": "python",
   "pygments_lexer": "ipython3",
   "version": "3.7.3"
  }
 },
 "nbformat": 4,
 "nbformat_minor": 2
}
